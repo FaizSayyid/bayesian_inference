{
 "cells": [
  {
   "cell_type": "markdown",
   "id": "82064251",
   "metadata": {},
   "source": [
    "## libs"
   ]
  },
  {
   "cell_type": "code",
   "execution_count": 1,
   "id": "1e836dde",
   "metadata": {},
   "outputs": [],
   "source": [
    "import numpy as np\n",
    "import matplotlib.pyplot as plt\n",
    "\n",
    "import scipy\n",
    "from scipy import stats"
   ]
  },
  {
   "cell_type": "markdown",
   "id": "22467ada",
   "metadata": {},
   "source": [
    "## observed data"
   ]
  },
  {
   "cell_type": "code",
   "execution_count": 2,
   "id": "f61e52f1",
   "metadata": {},
   "outputs": [
    {
     "data": {
      "text/plain": [
       "array(['h', 'h', 'h', 'h', 'h', 't'], dtype='<U1')"
      ]
     },
     "execution_count": 2,
     "metadata": {},
     "output_type": "execute_result"
    }
   ],
   "source": [
    "flip_data = np.array([\"h\",\"h\",\"h\",\"h\",\"h\",\"t\"])\n",
    "flip_data = np.sort(flip_data)\n",
    "flip_data"
   ]
  },
  {
   "cell_type": "markdown",
   "id": "a95ef053",
   "metadata": {},
   "source": [
    "## model"
   ]
  },
  {
   "cell_type": "code",
   "execution_count": 3,
   "id": "4653048b",
   "metadata": {},
   "outputs": [],
   "source": [
    "def coin_flipper(prior,n_obs):\n",
    "    \n",
    "    flips = np.random.choice([\"h\",\"t\"],size = n_obs, p=[prior,1-prior])\n",
    "    \n",
    "    y_star = flips\n",
    "    \n",
    "    return y_star"
   ]
  },
  {
   "cell_type": "code",
   "execution_count": 4,
   "id": "f6d25976",
   "metadata": {},
   "outputs": [],
   "source": [
    "def ar_abc(observed_data,simulation,num_iter):\n",
    "    \n",
    "    posterior_distribution = []\n",
    "    \n",
    "    for i in range(num_iter):\n",
    "        \n",
    "        # draw from the prior:\n",
    "        prior = np.random.uniform(low=0, high=1)\n",
    "        \n",
    "        # simulate using the prior:\n",
    "        y_star = simulation(prior,observed_data.shape[0])\n",
    "        y_star = np.sort(y_star)\n",
    "        \n",
    "        # admit the prior sample based upon the accept reject criterion:\n",
    "        if( (y_star == observed_data).all() == True):\n",
    "            #print(\"hi\")\n",
    "            posterior_distribution.append(prior)\n",
    "            \n",
    "    return posterior_distribution,len(posterior_distribution)/num_iter"
   ]
  },
  {
   "cell_type": "code",
   "execution_count": 195,
   "id": "6820c5d5",
   "metadata": {},
   "outputs": [],
   "source": [
    "post,ar = ar_abc(flip_data,coin_flipper,100000)"
   ]
  },
  {
   "cell_type": "code",
   "execution_count": 196,
   "id": "c8171ae6",
   "metadata": {},
   "outputs": [
    {
     "data": {
      "text/plain": [
       "0.14139"
      ]
     },
     "execution_count": 196,
     "metadata": {},
     "output_type": "execute_result"
    }
   ],
   "source": [
    "ar"
   ]
  },
  {
   "cell_type": "code",
   "execution_count": 197,
   "id": "4ad376e2",
   "metadata": {},
   "outputs": [
    {
     "data": {
      "image/png": "[encoded data removed]",
      "text/plain": [
       "<Figure size 432x288 with 1 Axes>"
      ]
     },
     "metadata": {
      "needs_background": "light"
     },
     "output_type": "display_data"
    }
   ],
   "source": [
    "plt.hist(post, bins = 50) \n",
    "plt.title(\"histogram\") \n",
    "plt.show()"
   ]
  },
  {
   "cell_type": "markdown",
   "id": "4b51a8b1",
   "metadata": {},
   "source": [
    "## Another prior"
   ]
  },
  {
   "cell_type": "code",
   "execution_count": 218,
   "id": "1e06bd57",
   "metadata": {},
   "outputs": [
    {
     "data": {
      "text/plain": [
       "[<matplotlib.lines.Line2D at 0x7f9fc658f640>]"
      ]
     },
     "execution_count": 218,
     "metadata": {},
     "output_type": "execute_result"
    },
    {
     "data": {
      "image/png": "[encoded data removed]",
      "text/plain": [
       "<Figure size 432x288 with 1 Axes>"
      ]
     },
     "metadata": {
      "needs_background": "light"
     },
     "output_type": "display_data"
    }
   ],
   "source": [
    "x = np.linspace(0,1,100)\n",
    "fig, ax = plt.subplots(1, 1)\n",
    "plt.xlim(0, 1)\n",
    "plt.ylim(0,5)\n",
    "plt.plot(x, stats.beta.pdf(x, 3, 1.3), 'r-')"
   ]
  },
  {
   "cell_type": "code",
   "execution_count": 219,
   "id": "f6ba50b0",
   "metadata": {},
   "outputs": [],
   "source": [
    "def ar_abc(observed_data,simulation,num_iter):\n",
    "    \n",
    "    posterior_distribution = []\n",
    "    \n",
    "    for i in range(num_iter):\n",
    "        \n",
    "        # draw from the prior:\n",
    "        prior = np.random.beta(4, 2)\n",
    "        \n",
    "        # simulate using the prior:\n",
    "        y_star = simulation(prior,observed_data.shape[0])\n",
    "        y_star = np.sort(y_star)\n",
    "        \n",
    "        # admit the prior sample based upon the accept reject criterion:\n",
    "        if( (y_star == observed_data).all() == True):\n",
    "            #print(\"hi\")\n",
    "            posterior_distribution.append(prior)\n",
    "            \n",
    "    return posterior_distribution,len(posterior_distribution)/num_iter"
   ]
  },
  {
   "cell_type": "code",
   "execution_count": 220,
   "id": "d472744e",
   "metadata": {},
   "outputs": [],
   "source": [
    "post,ar = ar_abc(flip_data,coin_flipper,100000)"
   ]
  },
  {
   "cell_type": "code",
   "execution_count": 221,
   "id": "2f8c4e4e",
   "metadata": {},
   "outputs": [
    {
     "data": {
      "text/plain": [
       "0.24271"
      ]
     },
     "execution_count": 221,
     "metadata": {},
     "output_type": "execute_result"
    }
   ],
   "source": [
    "ar"
   ]
  },
  {
   "cell_type": "code",
   "execution_count": 222,
   "id": "13d92bc9",
   "metadata": {},
   "outputs": [
    {
     "data": {
      "image/png": "[encoded data removed]",
      "text/plain": [
       "<Figure size 432x288 with 1 Axes>"
      ]
     },
     "metadata": {
      "needs_background": "light"
     },
     "output_type": "display_data"
    }
   ],
   "source": [
    "plt.hist(post, bins = 50) \n",
    "plt.title(\"histogram\") \n",
    "plt.show()"
   ]
  },
  {
   "cell_type": "markdown",
   "id": "ac500e41",
   "metadata": {},
   "source": [
    "## dungeons and dragons"
   ]
  },
  {
   "cell_type": "code",
   "execution_count": 5,
   "id": "6af9c139",
   "metadata": {},
   "outputs": [
    {
     "data": {
      "text/plain": [
       "array([ 4,  4,  4,  4,  4,  5,  6,  6,  6,  6,  7,  7,  7,  8,  8,  8,  8,\n",
       "        9,  9, 10, 10, 10, 10, 10, 11, 12, 12, 12, 12, 12, 12, 13, 13, 13,\n",
       "       13, 13, 14, 15, 16, 17, 18, 19, 20, 20, 21, 21, 21, 22, 22, 22])"
      ]
     },
     "execution_count": 5,
     "metadata": {},
     "output_type": "execute_result"
    }
   ],
   "source": [
    "attack_data = np.random.randint(low=1, high=20,size=50)\n",
    "attack_data = attack_data +3\n",
    "attack_data = np.sort(attack_data)\n",
    "attack_data"
   ]
  },
  {
   "cell_type": "code",
   "execution_count": 6,
   "id": "0576575b",
   "metadata": {},
   "outputs": [],
   "source": [
    "def attack_role(prior,n_obs):\n",
    "    \n",
    "    attack_role = np.random.randint(low=1, high=20,size=n_obs)\n",
    "    \n",
    "    y_star = attack_role + prior\n",
    "    \n",
    "    return y_star"
   ]
  },
  {
   "cell_type": "code",
   "execution_count": 7,
   "id": "d9843762",
   "metadata": {},
   "outputs": [
    {
     "data": {
      "text/plain": [
       "22"
      ]
     },
     "execution_count": 7,
     "metadata": {},
     "output_type": "execute_result"
    }
   ],
   "source": [
    "rng = np.random.default_rng()\n",
    "rng.integers(low=1, high=30)"
   ]
  },
  {
   "cell_type": "code",
   "execution_count": 385,
   "id": "0ac5f8af",
   "metadata": {},
   "outputs": [],
   "source": [
    "def ar_abc_2(observed_data,simulation,num_iter):\n",
    "    \n",
    "    posterior_distribution = []\n",
    "    \n",
    "    for i in range(num_iter):\n",
    "        \n",
    "        # draw from the prior:\n",
    "        prior = np.random.randint(low=1, high=30)\n",
    "        \n",
    "        # simulate using the prior:\n",
    "        y_star = simulation(prior,observed_data.shape[0])\n",
    "        y_star = np.sort(y_star)\n",
    "        #print(y_star)\n",
    "        \n",
    "        # admit the prior sample based upon the accept reject criterion:\n",
    "        if( (y_star == observed_data).all() == True):\n",
    "            #print(\"hi\")\n",
    "            posterior_distribution.append(prior)\n",
    "            \n",
    "    return posterior_distribution,len(posterior_distribution)/num_iter"
   ]
  },
  {
   "cell_type": "code",
   "execution_count": 386,
   "id": "71dabeed",
   "metadata": {},
   "outputs": [
    {
     "data": {
      "text/plain": [
       "0.0"
      ]
     },
     "execution_count": 386,
     "metadata": {},
     "output_type": "execute_result"
    }
   ],
   "source": [
    "post,ar = ar_abc_2(attack_data,attack_role,100000)\n",
    "ar"
   ]
  },
  {
   "cell_type": "code",
   "execution_count": null,
   "id": "7b3c8be5",
   "metadata": {},
   "outputs": [],
   "source": [
    "plt.hist(post, bins = 50) \n",
    "plt.title(\"histogram\") \n",
    "plt.show()"
   ]
  },
  {
   "cell_type": "markdown",
   "id": "c107b4c7",
   "metadata": {},
   "source": [
    "### inexact"
   ]
  },
  {
   "cell_type": "code",
   "execution_count": 9,
   "id": "fa03f14f",
   "metadata": {},
   "outputs": [
    {
     "data": {
      "text/plain": [
       "array([ 5,  6,  7, 15, 17, 22])"
      ]
     },
     "execution_count": 9,
     "metadata": {},
     "output_type": "execute_result"
    }
   ],
   "source": [
    "attack_data = np.random.randint(low=1, high=20,size=6)\n",
    "attack_data = attack_data +3\n",
    "attack_data = np.sort(attack_data)\n",
    "attack_data"
   ]
  },
  {
   "cell_type": "markdown",
   "id": "a27ba16f",
   "metadata": {},
   "source": [
    "#### what should epsilon be?"
   ]
  },
  {
   "cell_type": "code",
   "execution_count": 22,
   "id": "3a5de3c3",
   "metadata": {},
   "outputs": [],
   "source": [
    "def ar_abc_3(observed_data,simulation,distance_metric,eta,num_iter):\n",
    "    \n",
    "    posterior_distribution = []\n",
    "    \n",
    "    n_obs = observed_data.shape[0]\n",
    "    \n",
    "    for i in range(num_iter):\n",
    "        \n",
    "        # draw from the prior:\n",
    "        prior = np.random.randint(low=1, high=30)\n",
    "        \n",
    "        # simulate using the prior:\n",
    "        y_star = simulation(prior,n_obs)\n",
    "        y_star = np.sort(y_star)\n",
    "        #print(y_star)\n",
    "        \n",
    "        # admit the prior sample based upon the accept reject criterion:\n",
    "        # 1 is best\n",
    "        if( distance_metric(observed_data,y_star,n_obs) <eta ):\n",
    "            posterior_distribution.append(prior)\n",
    "            \n",
    "    return posterior_distribution,len(posterior_distribution)/num_iter"
   ]
  },
  {
   "cell_type": "code",
   "execution_count": 18,
   "id": "aca2acaa",
   "metadata": {},
   "outputs": [],
   "source": [
    "def sse(y,y_star,n_obs):\n",
    "    sse = y-y_star\n",
    "    sse = sse*sse\n",
    "    sse = np.sum(sse)\n",
    "    sse = sse/n_obs\n",
    "    sse = np.sqrt(sse)\n",
    "    \n",
    "    return sse\n",
    "    "
   ]
  },
  {
   "cell_type": "code",
   "execution_count": 19,
   "id": "4a006ffc",
   "metadata": {},
   "outputs": [
    {
     "data": {
      "text/plain": [
       "0.3792"
      ]
     },
     "execution_count": 19,
     "metadata": {},
     "output_type": "execute_result"
    }
   ],
   "source": [
    "post,ar = ar_abc_3(attack_data,attack_role,sse,10,100000)\n",
    "ar"
   ]
  },
  {
   "cell_type": "code",
   "execution_count": 20,
   "id": "8aeee08f",
   "metadata": {},
   "outputs": [
    {
     "data": {
      "image/png": "[encoded data removed]",
      "text/plain": [
       "<Figure size 432x288 with 1 Axes>"
      ]
     },
     "metadata": {
      "needs_background": "light"
     },
     "output_type": "display_data"
    }
   ],
   "source": []
  },
  {
   "cell_type": "markdown",
   "id": "0853afa7",
   "metadata": {},
   "source": [
    "hmm amost looks like a sample from the prior..."
   ]
  },
  {
   "cell_type": "code",
   "execution_count": 23,
   "id": "dfe2d827",
   "metadata": {},
   "outputs": [
    {
     "name": "stdout",
     "output_type": "stream",
     "text": [
      "0.18283\n"
     ]
    },
    {
     "data": {
      "image/png": "[encoded data removed]",
      "text/plain": [
       "<Figure size 432x288 with 1 Axes>"
      ]
     },
     "metadata": {
      "needs_background": "light"
     },
     "output_type": "display_data"
    }
   ],
   "source": [
    "post,ar = ar_abc_3(attack_data,attack_role,sse,5,100000)\n",
    "print(ar)\n",
    "plt.hist(post, bins = 50) \n",
    "plt.title(\"histogram\") \n",
    "plt.show()"
   ]
  },
  {
   "cell_type": "code",
   "execution_count": 24,
   "id": "8dab2d45",
   "metadata": {},
   "outputs": [
    {
     "name": "stdout",
     "output_type": "stream",
     "text": [
      "0.01182\n"
     ]
    },
    {
     "data": {
      "image/png": "[encoded data removed]",
      "text/plain": [
       "<Figure size 432x288 with 1 Axes>"
      ]
     },
     "metadata": {
      "needs_background": "light"
     },
     "output_type": "display_data"
    }
   ],
   "source": [
    "post,ar = ar_abc_3(attack_data,attack_role,sse,2,100000)\n",
    "print(ar)\n",
    "plt.hist(post, bins = 50) \n",
    "plt.title(\"histogram\") \n",
    "plt.show()"
   ]
  },
  {
   "cell_type": "code",
   "execution_count": 25,
   "id": "83e8611c",
   "metadata": {},
   "outputs": [
    {
     "name": "stdout",
     "output_type": "stream",
     "text": [
      "0.00051\n"
     ]
    },
    {
     "data": {
      "image/png": "[encoded data removed]",
      "text/plain": [
       "<Figure size 432x288 with 1 Axes>"
      ]
     },
     "metadata": {
      "needs_background": "light"
     },
     "output_type": "display_data"
    }
   ],
   "source": [
    "post,ar = ar_abc_3(attack_data,attack_role,sse,1,100000)\n",
    "print(ar)\n",
    "plt.hist(post, bins = 50) \n",
    "plt.title(\"histogram\") \n",
    "plt.show()"
   ]
  },
  {
   "cell_type": "code",
   "execution_count": 28,
   "id": "87668db9",
   "metadata": {},
   "outputs": [
    {
     "name": "stdout",
     "output_type": "stream",
     "text": [
      "0.00035\n"
     ]
    },
    {
     "data": {
      "image/png": "[encoded data removed]",
      "text/plain": [
       "<Figure size 432x288 with 1 Axes>"
      ]
     },
     "metadata": {
      "needs_background": "light"
     },
     "output_type": "display_data"
    }
   ],
   "source": [
    "post,ar = ar_abc_3(attack_data,attack_role,sse,1,100000)\n",
    "print(ar)\n",
    "plt.hist(post, bins = 50) \n",
    "plt.title(\"histogram\") \n",
    "plt.show()"
   ]
  },
  {
   "cell_type": "markdown",
   "id": "e2a2d9b5",
   "metadata": {},
   "source": [
    "what happens if we increase the sample size?"
   ]
  },
  {
   "cell_type": "code",
   "execution_count": 32,
   "id": "cfc65483",
   "metadata": {},
   "outputs": [],
   "source": [
    "attack_data = np.random.randint(low=1, high=20,size=1000)\n",
    "attack_data = attack_data +3\n",
    "attack_data = np.sort(attack_data)"
   ]
  },
  {
   "cell_type": "code",
   "execution_count": 33,
   "id": "1bb702ff",
   "metadata": {},
   "outputs": [
    {
     "name": "stdout",
     "output_type": "stream",
     "text": [
      "0.05482\n"
     ]
    },
    {
     "data": {
      "image/png": "[encoded data removed]",
      "text/plain": [
       "<Figure size 432x288 with 1 Axes>"
      ]
     },
     "metadata": {
      "needs_background": "light"
     },
     "output_type": "display_data"
    }
   ],
   "source": [
    "post,ar = ar_abc_3(attack_data,attack_role,sse,1,100000)\n",
    "print(ar)\n",
    "plt.hist(post, bins = 50) \n",
    "plt.title(\"histogram\") \n",
    "plt.show()"
   ]
  },
  {
   "cell_type": "markdown",
   "id": "017bb500",
   "metadata": {},
   "source": [
    "### better priors on monster strength"
   ]
  },
  {
   "cell_type": "markdown",
   "id": "2d559868",
   "metadata": {},
   "source": [
    "### sufficient statistics"
   ]
  },
  {
   "cell_type": "markdown",
   "id": "d9ec5a0d",
   "metadata": {},
   "source": [
    "## a traditional bayesian detour - trivial likelihoods"
   ]
  },
  {
   "cell_type": "markdown",
   "id": "999a3ee5",
   "metadata": {},
   "source": [
    "## damage dice"
   ]
  },
  {
   "cell_type": "markdown",
   "id": "bcb94a02",
   "metadata": {},
   "source": [
    "## joint model of attack and damage"
   ]
  },
  {
   "cell_type": "markdown",
   "id": "06743094",
   "metadata": {},
   "source": [
    "## MCMC-ABC"
   ]
  }
 ],
 "metadata": {
  "kernelspec": {
   "display_name": "Python 3 (ipykernel)",
   "language": "python",
   "name": "python3"
  },
  "language_info": {
   "codemirror_mode": {
    "name": "ipython",
    "version": 3
   },
   "file_extension": ".py",
   "mimetype": "text/x-python",
   "name": "python",
   "nbconvert_exporter": "python",
   "pygments_lexer": "ipython3",
   "version": "3.9.6"
  }
 },
 "nbformat": 4,
 "nbformat_minor": 5
}
