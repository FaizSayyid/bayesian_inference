{
 "cells": [
  {
   "cell_type": "markdown",
   "id": "def66630",
   "metadata": {},
   "source": [
    "# MCMC"
   ]
  },
  {
   "cell_type": "markdown",
   "id": "2ffefef8",
   "metadata": {},
   "source": [
    "## Libs"
   ]
  },
  {
   "cell_type": "code",
   "execution_count": 1,
   "id": "f2362953",
   "metadata": {},
   "outputs": [],
   "source": [
    "import numpy as np\n",
    "import matplotlib.pyplot as plt\n",
    "from scipy.stats import gamma, norm"
   ]
  },
  {
   "cell_type": "markdown",
   "id": "7cb3733c",
   "metadata": {},
   "source": [
    "### Bayesian modelling"
   ]
  },
  {
   "cell_type": "markdown",
   "id": "a13722f5",
   "metadata": {},
   "source": [
    "You should be familiar with Bayes' rule:"
   ]
  },
  {
   "cell_type": "markdown",
   "id": "949d6247",
   "metadata": {},
   "source": [
    "$$ p(h|d)=\\frac{p(d|h) \\times p(h)}{p(d)} $$"
   ]
  },
  {
   "cell_type": "markdown",
   "id": "7eb51456",
   "metadata": {},
   "source": [
    "or:"
   ]
  },
  {
   "cell_type": "markdown",
   "id": "a9a9f274",
   "metadata": {},
   "source": [
    "$$ p(h|d)=\\frac{p(d|h) \\times p(h)}{ \\int p(d|h) \\times p(h) \\,dh } $$"
   ]
  },
  {
   "cell_type": "markdown",
   "id": "da77bc23",
   "metadata": {},
   "source": [
    "where $p(d) = \\int p(d|h) \\times p(h)$"
   ]
  },
  {
   "cell_type": "markdown",
   "id": "92309606",
   "metadata": {},
   "source": [
    "* $p(h|d)$: The posterior; the probability of the hypothesis (e.g. that a parameter has a certain value) given the data\n",
    "* $p(d|h)$: The likelihood of observing/generating the data given the hypothesis\n",
    "* $p(h)$:   The prior probability of the hypothesis\n",
    "* $p(d)$:   The probability of observing the data under all hypothesis\n",
    "\n",
    "#### It is $p(d)$ that makes this equation so difficult to solve in high dimensions (number of parameters to estimate)"
   ]
  },
  {
   "cell_type": "markdown",
   "id": "c94c6c61",
   "metadata": {},
   "source": [
    "We are left in the following situation:\n",
    "\n",
    "We have a distribution function\n",
    "\n",
    "$$ p(x) = \\frac{1}{nc}f(x) $$\n",
    "\n",
    "where $f(x)$ is easy to compute but $nc$, the normalising constant is very hard. Aside from bayesian models, this arises in two other contexts: energy based models and directed graphical models"
   ]
  },
  {
   "cell_type": "markdown",
   "id": "ada8e21f",
   "metadata": {},
   "source": [
    "### Bayesian linear regression"
   ]
  },
  {
   "cell_type": "markdown",
   "id": "60397f7f",
   "metadata": {},
   "source": [
    "#### Generate some data"
   ]
  },
  {
   "cell_type": "markdown",
   "id": "15b48a0d",
   "metadata": {},
   "source": [
    "The natural process that generates this data is of course unknown. However because we need some data to test it upon we're going to have generate some. This is a very simple example, we simply generate some data from the linear relationship $y=mx+c+\\varepsilon$ where $\\varepsilon$ is drawn from $N(\\mu,\\sigma)$"
   ]
  },
  {
   "cell_type": "code",
   "execution_count": 2,
   "id": "dca6c449",
   "metadata": {},
   "outputs": [
    {
     "data": {
      "text/plain": [
       "<matplotlib.collections.PathCollection at 0x7fe20c0d7340>"
      ]
     },
     "execution_count": 2,
     "metadata": {},
     "output_type": "execute_result"
    },
    {
     "data": {
      "image/png": "[encoded data removed]",
      "text/plain": [
       "<Figure size 432x288 with 1 Axes>"
      ]
     },
     "metadata": {
      "needs_background": "light"
     },
     "output_type": "display_data"
    }
   ],
   "source": [
    "def generate_linear(x_vals, m_val, c_val):\n",
    "    mu = x_vals * m_val\n",
    "    y = np.random.normal(loc=mu, scale=1, size=x_vals.shape[0])\n",
    "    return y\n",
    "\n",
    "# our gods eye view of the world\n",
    "num_train_points = 20\n",
    "gradient = 10\n",
    "intercept = 0\n",
    "\n",
    "x_data = np.arange(0,num_train_points)\n",
    "y_data = generate_linear(x_data,gradient,intercept)\n",
    "\n",
    "plt.scatter(x_data,y_data)\n",
    "#plt.ylim([0, 50])"
   ]
  },
  {
   "cell_type": "markdown",
   "id": "df2ba36a",
   "metadata": {},
   "source": [
    "We could attempt to the above solve linear regression using the bayesian approach. In this construction the parameter of interest, the gradient $m$ becomes the hypothesis in the above equations.  \n",
    "\n",
    "The only remaining question then becomes, what should we choose for the prior distribution for the gradient?  \n",
    "\n",
    "From the picture above we can clearly see that the gradient is positive; this should inform our choice of prior distribution; we should expect our unknown gradient parameter to be strictly positive\n",
    "\n",
    "One choice for the prior distribution might be the gamma distribution"
   ]
  },
  {
   "cell_type": "markdown",
   "id": "f9ca5c88",
   "metadata": {},
   "source": [
    "### The Gamma distribution"
   ]
  },
  {
   "cell_type": "markdown",
   "id": "a8dc3146",
   "metadata": {},
   "source": [
    "We have a few requirements for our prior distribution:\n",
    "\n",
    "* It should produce samples that are strictly positive (positive gradient)\n",
    "* The gradient looks steep, not as low as 1 but not for example 20, but we should leave room for other values incase our guess is wrong"
   ]
  },
  {
   "cell_type": "code",
   "execution_count": 3,
   "id": "d911080d",
   "metadata": {},
   "outputs": [
    {
     "data": {
      "image/png": "[encoded data removed]",
      "text/plain": [
       "<Figure size 432x288 with 1 Axes>"
      ]
     },
     "metadata": {
      "needs_background": "light"
     },
     "output_type": "display_data"
    }
   ],
   "source": [
    "x = np.linspace (0, 40, 100) \n",
    "y = gamma.pdf(x, a=2.5, scale=5)\n",
    "\n",
    "plt.plot(x, y)\n",
    "\n",
    "plt.show()"
   ]
  },
  {
   "cell_type": "markdown",
   "id": "cb797e2b",
   "metadata": {},
   "source": [
    "The plot of the prior distribution for the gradient. All values are positive and the support covers gradient values we think are most likely with high density"
   ]
  },
  {
   "cell_type": "markdown",
   "id": "455e44a7",
   "metadata": {},
   "source": [
    "### Dealing with $p(d)$"
   ]
  },
  {
   "cell_type": "markdown",
   "id": "852d3530",
   "metadata": {},
   "source": [
    "We've now specified our model for the data. But we still don't have a way with deal with the $p(d)$, the high dimensional integral on the bottom of bayes rule. There are essentially four ways forward:\n",
    "\n",
    "**1. Use a conjugage prior**\n",
    "\n",
    "\n",
    "Some combinations of prior and likelihood result in a posterior function (e.g. the distribution of a parameter) that is of the same form as the prior (e.g. the beta-binomial model). This means that you have an analytical form of the posterior without any hard maths.\n",
    "\n",
    "**2. Approximate the posterior**\n",
    "\n",
    "\n",
    "Techniques such as variational inference construct an analytical approximation to the posterior function. We choose a variational distribution of a simple form (e.g. a gaussian) and find the parameters of this distribution that minimises the distance to the true posterior. This can be done using the machinary of AD. VB provides a exact solution that is an approximation.\n",
    "\n",
    "\n",
    "**3. Sample from the posterior**\n",
    "\n",
    "\n",
    "Finally we can attempt to sample direction from the posterior without ever finding an analytical form, or an approximation thereof. We construct an empirical approximation to the posterior. This is the family that MCMC and ABC fall into.\n",
    "\n",
    "\n",
    "\n",
    "**MCMC is asymptotically exact; VI is not.** In the limit, MCMC will exactly approximate the target distribution. VI comes without warranty.\n",
    "\n",
    "\n",
    "**MCMC is computationally expensive**. In general, VI is faster.\n",
    "\n",
    "\n",
    "When we value precision of our estimates, MCMC wins. If we can tolerate sacrificing accuracy for speed VI is a natural choice. Bayesian DNN are fit with VI, not MCMC!"
   ]
  },
  {
   "cell_type": "markdown",
   "id": "8745b46a",
   "metadata": {},
   "source": [
    "### MCMC"
   ]
  },
  {
   "cell_type": "markdown",
   "id": "cd2e071d",
   "metadata": {},
   "source": [
    "#### 10k foot view"
   ]
  },
  {
   "cell_type": "markdown",
   "id": "b0b854cc",
   "metadata": {},
   "source": [
    "We shall use MCMC to sample from the posterior, without ever algebraically evaluating it."
   ]
  },
  {
   "cell_type": "markdown",
   "id": "91a5da84",
   "metadata": {},
   "source": [
    "#### The key idea"
   ]
  },
  {
   "cell_type": "markdown",
   "id": "fce5a79a",
   "metadata": {},
   "source": [
    "MCMC is the combination of markov chains and monte carlo methods. The basic idea is to increase sample efficiency by using the last sample to figure out where to go next in the distribution. Methods like accept-reject sampling throw away the information from the previous sampling event and so become very inefficient.\n",
    "\n",
    "So, **the next sample depends only on the previous sample**. This is the exact same philosohpy as a Markov chain.\n",
    "\n",
    "\n",
    "So how do we construct this chain? Well the idea behind all MCMC is to construct a Markov chain that has the same stationary distribution as the target density (for us this is the posterior function). Exactly how the chain is constructed differs from method to method, but this is the key idea"
   ]
  },
  {
   "cell_type": "markdown",
   "id": "54668c9c",
   "metadata": {},
   "source": [
    "#### Detailed balance"
   ]
  },
  {
   "cell_type": "markdown",
   "id": "96a6699f",
   "metadata": {},
   "source": [
    "A markov chain is entirely described by its transition probabilities.\n",
    "\n",
    "The detailed balance equation of a markov chain checks to make sure that the transition probabalities proposed by the particular method results in a stationary distribution that is the target distribution (our posterior).\n",
    "\n",
    "So, let's pretend that we've come up with some method for generating transition probalities. We'll call this function $T$. \n",
    "\n",
    "The detailed balance equation states that if:\n",
    "\n",
    "$$ p(x)T(y|x) = p(y)T(x|y) $$\n",
    "\n",
    "is true then $p(x)$ is the stationary distribution of our markov chain.  Let's explore this a little bit more. $p(x)$ is our posterior function that we wish to sample from and x and y are any arbitrary pair of numbers on the x axis. This equation says that the probability of being in state x and moving to state y is the same as being in state y and moving to state x.\n",
    "\n",
    "How does this equation show that p(x) must be the stationary distribution? Let's sum over the $x$ on each side:\n",
    "\n",
    "$$ \\sum_x p(x)T(y|x) = \\sum_x p(y)T(x|y) $$\n",
    "\n",
    "$$ \\sum_x p(x)T(y|x) =  p(y) \\sum_x T(x|y) $$\n",
    "\n",
    "$$ \\sum_x p(x)T(y|x) =  p(y) \\times 1 $$ (dot product)\n",
    "\n",
    "$$ \\textbf{p}\\textbf{T} = \\textbf{p} $$\n",
    "\n",
    "\n",
    "That is, p is unchanged by the transition matrix and thus we have reached a stationary state and p is the stationary distribution.\n",
    "\n",
    "Perhaps you can also see, why the evidence is no longer necessary? As the evidence is constant, we can cancel it from both sides of the detailed balance equation. We'll cover this in more detail later."
   ]
  },
  {
   "cell_type": "markdown",
   "id": "9221d5fe",
   "metadata": {},
   "source": [
    "#### Summary of MCMC"
   ]
  },
  {
   "cell_type": "markdown",
   "id": "16824798",
   "metadata": {},
   "source": [
    "**What**\n",
    "\n",
    "\n",
    "* We can't directly evaluate the posterior as it is too complex to figure out for interesting problems\n",
    "\n",
    "* Instead we sample from it\n",
    "\n",
    "* We do this by engineering a markov chain that has the same stationary distribution as the target distribution (the posterior in our case)\n",
    "\n",
    "* When we have \"burned-in\" our chain enough we continue to run the markov chain and sample from it to build up our empirical distribution of the posterior\n",
    "\n",
    "**How**\n",
    "\n",
    "* All markov chains are completely described by their transition probabilities or transition kernel in the continuous regime\n",
    "\n",
    "* We therefore control/engineer the markov chain by controlling the transition probabilities\n",
    "\n",
    "* All MCMC algorithms work from this principal but the exact method for generating these transition probabilites differs from algorithm to algorithm\n",
    "\n",
    "* If we have a particular algorithm for generating these transition probabilities, we can verify that it converges to the stationary distribution by using the detailed/global balance equation on the proposed transition probabilities\n",
    "\n",
    "* Thus the remaining challenge is to come up with a method to generate these transition probabilities"
   ]
  },
  {
   "cell_type": "markdown",
   "id": "5ee14498",
   "metadata": {},
   "source": [
    "## Metropolis hastings"
   ]
  },
  {
   "cell_type": "markdown",
   "id": "3387d019",
   "metadata": {},
   "source": [
    "Now we're going to look at a particular MCMC algorithm, metropolis hastings (MH). Let's restate the problem. \n",
    "\n",
    "\n",
    "We wish to sample from some distribution $p(x)$, but we don't know the exact form of the distribution, we only know the numerator:\n",
    "\n",
    "$$p(x) = \\frac{f(x)}{NC}$$\n",
    "\n",
    "In our (Bayesian) case $p(x)$ is the posterior and $NC$ is the evidence:\n",
    "\n",
    "$$ p(h|d)=\\frac{p(d|h) \\times p(h)}{ \\int p(d|h) \\times p(h) \\,dh } $$\n",
    "\n",
    "\n",
    "* $p(x) = p(h|d)$\n",
    "* $f(x) = p(d|h) \\times p(h) $\n",
    "* $NC =  \\int p(d|h) \\times p(h) \\,dh$\n",
    "\n",
    "\n",
    "**Is it possible to use only f(x) to get samples from p(x) ?**\n",
    "\n",
    "MCMC solves this problem by constructing a markov chain so that the stationary distribution of the Markov chain is the same as $p(x)$.\n",
    "\n",
    "\n",
    "As we said, the key to any MCMC algorithm is designing the transition probabilites so that you end up with this desired stationary distribution. This is how MH goes about it."
   ]
  },
  {
   "cell_type": "markdown",
   "id": "223e2865",
   "metadata": {},
   "source": [
    "### The MH algorithm"
   ]
  },
  {
   "cell_type": "markdown",
   "id": "c217378b",
   "metadata": {},
   "source": [
    "In this section we will first show the algorithm and then prove that it is correct\n",
    "\n",
    "Explanation in words:\n",
    "\n",
    "1. **Propose a candidate state (x-axis point) to transition to**\n",
    "    - This candidate is a sample from an easy to sample distribution (e.g. a normal) E.g. $g(x_{t+1}|x_t) = \\mathcal{N}(\\mu,\\,\\sigma^{2})$\n",
    "    - The mean of this distribution is the state that we're already at - this is how we enforce the Markov property\n",
    "    - We can use any proposal distribution we want as long as it's support is the same as the posterior distribution\n",
    "    - When we have a symetric proposal this is known as the metropolis algorithm and when it's asymetric in the more general case it's known as the MH \n",
    "    - When it's symetric we have just as much chance of going back to where we were as to jump to where we are\n",
    "    \n",
    "    \n",
    "2. **Accept this new state with probability $A(x_t \\rightarrow x_{t+1})$**\n",
    "    - How do we specify this acceptance probability?\n",
    "    - Well we know that the transition probability must obey the detailed balance equations...\n",
    "    \n",
    "\n",
    "**A more mathematical formulation of the above MH**:\n",
    "\n",
    "1. Generate a candidate, $y$, $y \\sim g(y|x)$ from some transition kernel, g \n",
    "\n",
    "\n",
    "2. Set $x_{t+1} = y$ with acceptance probability, $\\alpha$ \n",
    "\n",
    "$$ \\alpha (y|x) = min \\left[ \\frac{f(y)\\times g(x|y)}{f(x)\\times g(y|x)},1 \\right]  $$\n",
    "\n",
    "   Otherwise set  $x_{t+1} = x_t$\n",
    "   \n",
    "   \n",
    "**Note that the above equations do not require $p(x)$, rather only $f(x)$**\n",
    "\n",
    "If we were to use the full probability distribution then the normalising constant, $ p(d) = \\int p(d|h) \\times p(h) \\,dh$ would cancel:\n",
    "\n",
    "\n",
    "$$p(x) = \\frac{f(x)}{NC}$$\n",
    "\n",
    "$$ \\alpha (y|x) = min \\left[ \\frac{\\frac{f(y)}{NC}\\times g(x|y)}{\\frac{f(x)}{NC}\\times g(y|x)},1 \\right]  $$\n",
    "\n",
    "$$ \\alpha (y|x) = min \\left[ \\frac{f(y)\\times g(x|y)}{f(x)\\times g(y|x)},1 \\right]  $$\n",
    "\n",
    "\n",
    "Now we've seen the algorithm, you should still be asking me, \"okay great but how does this MH acceptance probability result in a markov chain where the stationary distribution is $p(x)$ ?\n",
    "\n",
    "By using the above algorithm we are making the following claim:\n",
    "\n",
    "\"The resulting Markov chain is reversible with stationary distribution p(x). We can therefore sample from $p(x)$ by running the algorithm until the chain is stationary and then using sampled points to build our empirical distribution\".\n",
    "\n",
    "\n",
    "We shall prove this claim using the detailed balance condition\n",
    "\n",
    "**side note: metropolis vs MH**\n",
    "\n",
    "In this case that the proposal function is symetric  $ g(x|y) = g(y|x)$. This means that the acceptance condition becomes:\n",
    "\n",
    "$$ \\alpha (y|x) = min \\left[ \\frac{f(y)}{f(x)},1 \\right]  $$\n",
    "\n"
   ]
  },
  {
   "cell_type": "markdown",
   "id": "9eb1f138",
   "metadata": {},
   "source": [
    "### Detailed balance applied to MH"
   ]
  },
  {
   "cell_type": "markdown",
   "id": "9dc2014e",
   "metadata": {},
   "source": [
    "In this section we verify the claim made in the previous section, namely that xxx. We show two different ways of arriving at this result."
   ]
  },
  {
   "cell_type": "markdown",
   "id": "c33a4936",
   "metadata": {},
   "source": [
    "#### Approach 1\n",
    "\n",
    "Let's restate the detailed balance condition\n",
    "\n",
    "$$ p(x)T(y|x) = p(y)T(x|y) $$\n",
    "\n",
    "Let's plug in what we have in our problem to the detailed balance equation. We know that\n",
    "\n",
    "$$p(x) = \\frac{f(x)}{NC}$$\n",
    "\n",
    "Therefore the detailed balance condition becomes\n",
    "\n",
    "$$ \\frac{f(x)}{NC}T(y|x) = \\frac{f(y)}{NC}T(x|y) $$\n",
    "\n",
    "Looks good, what can do we about $T$?\n",
    "\n",
    "Well, in order to transition between say $x$ and $y$, $T(y|x)$, \n",
    "1. We have to be proposed state $y$ (x-axis point) given that i'm in state $x$ using the equation, $y \\sim g(y|x)$ and then;\n",
    "2. We have to accept that proposal, using $A(x \\rightarrow y)$\n",
    "\n",
    "Therefore $$T(y|x) = g(y|x)A(x \\rightarrow y)$$\n",
    "\n",
    "subsituting this into our detailed balance equation yeilds:\n",
    "\n",
    "$$ \\frac{f(x)}{NC} g(y|x)A(x \\rightarrow y) = \\frac{f(y)}{NC}  g(x|y)A(y \\rightarrow x) $$\n",
    "\n",
    "**If this equality holds then we know that $p()$ is a stationary distribution of the markov chain with the transition probability:**\n",
    "\n",
    "$$T(y|x) = g(y|x)A(x \\rightarrow y)$$\n",
    "\n",
    "Let's return to our subsitituted detailed balance equation:\n",
    "\n",
    "$$ \\frac{f(x)}{NC} g(y|x)A(x \\rightarrow y) = \\frac{f(y)}{NC}  g(x|y)A(y \\rightarrow x) $$\n",
    "\n",
    "We'll take the left hand side and subsititute in the metropolis hastings acceptance probability, \n",
    "\n",
    "$$ \\alpha (y|x) = min \\left[ \\frac{f(y)\\times g(x|y)}{f(x)\\times g(y|x)},1 \\right]  $$\n",
    "\n",
    "This leaves us with:\n",
    "\n",
    "$$\\frac{f(x)}{NC} g(y|x)A(x \\rightarrow y) = \\frac{f(x)}{NC} g(y|x) \\times min \\left[ \\frac{f(y)\\times g(x|y)}{f(x)\\times g(y|x)},1 \\right] $$\n",
    "\n",
    "Cancelling NC:\n",
    "\n",
    "$$f(x) g(y|x)A(x \\rightarrow y) = f(x) g(y|x) \\times min \\left[ \\frac{f(y)\\times g(x|y)}{f(x)\\times g(y|x)},1 \\right] $$\n",
    "\n",
    "Multiplying through by $ f(x) g(y|x)$ on the RHS:\n",
    "\n",
    "$$f(x) g(y|x)A(x \\rightarrow y) =  min \\left[ f(y)\\times g(x|y), f(x) \\times g(y|x) \\right] $$\n",
    "\n",
    "Taking out a factor of $f(y)\\times g(x|y)$ on the RHS:\n",
    "\n",
    "$$f(x) g(y|x)A(x \\rightarrow y) =  min \\left[ 1, \\frac {f(x) \\times g(y|x)} {f(y)\\times g(x|y)} \\right]f(y)\\times g(x|y)$$\n",
    "\n",
    "\n",
    "Recall that:\n",
    "$$  g(x|y)A(y \\rightarrow x) = g(x|y) \\times min \\left[ 1, \\frac {f(x) \\times g(y|x)} {f(y)\\times g(x|y)} \\right]$$\n",
    "\n",
    "and subsitute, therefore:\n",
    "\n",
    "$$ f(x) g(y|x)A(x \\rightarrow y) = f(y) g(x|y)A(y \\rightarrow x) $$\n",
    "\n",
    "and the detailed balance condition is observed"
   ]
  },
  {
   "cell_type": "markdown",
   "id": "1719a933",
   "metadata": {},
   "source": [
    "#### Approach 2"
   ]
  },
  {
   "cell_type": "markdown",
   "id": "6be6b756",
   "metadata": {},
   "source": [
    "### Intuition for those still not convinced"
   ]
  },
  {
   "cell_type": "markdown",
   "id": "6ab98d0c",
   "metadata": {},
   "source": [
    "The acceptance probability is:\n",
    "\n",
    "$$ \\alpha (y|x) = min \\left[ \\frac{f(y)\\times g(x|y)}{f(x)\\times g(y|x)},1 \\right]  $$\n",
    "\n",
    "or \n",
    "\n",
    "$$ \\alpha (y|x) = min \\left[ \\frac{f(y)}{f(x)},1 \\right]  $$\n",
    "\n",
    "**Case 1, $f(y)$ > $f(x)$**\n",
    "* In this case the new proposed location is larger and therefore more probable than the old location\n",
    "* I.e. $f(y) = p(d|h_y) \\times p(h_y) $ > $f(x) = p(d|h_x) \\times p(h_x) $\n",
    "* The new parameter value is more likely to have generated the data so we always move there\n",
    "\n",
    "**Case 2, $f(x)$ > $f(y)$**\n",
    "* In this case the old proposed location is larger and therefore more probable than the new location\n",
    "* The old parameter value is more likely to have generated the data\n",
    "* In this case we *may* accept the new location with a probability proportional to how much worse than the old guess it is\n",
    "* This ensures that we don't get stuck in local optima\n",
    "* Picture"
   ]
  },
  {
   "cell_type": "markdown",
   "id": "33f6b60d",
   "metadata": {},
   "source": [
    "#### Function for the likelihood x prior"
   ]
  },
  {
   "cell_type": "code",
   "execution_count": 4,
   "id": "c726bf55",
   "metadata": {},
   "outputs": [],
   "source": [
    "def normal_gamma_ll(m_guess):\n",
    "    \n",
    "    like_sum = 0\n",
    "    \n",
    "    # calculate the likelihood\n",
    "    for idx in np.arange(num_train_points):\n",
    "        \n",
    "        data_xi = x_data[idx]\n",
    "        data_yi = y_data[idx]\n",
    "        \n",
    "        mu_i = m_guess*data_xi # the linear estimator x*b\n",
    "        prob_i = norm.pdf(data_yi,loc = mu_i,scale = 1)\n",
    "        like_sum = like_sum + prob_i\n",
    "    \n",
    "    # calculate the prior:\n",
    "    prior_prob_mu_guess = gamma.pdf(m_guess, a=2.5, scale=5)\n",
    "    \n",
    "    # add the like and the prior to get the MAP\n",
    "    like_sum = like_sum + prior_prob_mu_guess\n",
    "    \n",
    "    # take the log for small numbers\n",
    "    ll = np.log(like_sum)\n",
    "    \n",
    "    #ll = np.exp(ll)\n",
    "    \n",
    "    return ll"
   ]
  },
  {
   "cell_type": "code",
   "execution_count": 5,
   "id": "f343adf6",
   "metadata": {},
   "outputs": [
    {
     "name": "stdout",
     "output_type": "stream",
     "text": [
      "1.892072033799256\n"
     ]
    }
   ],
   "source": [
    "a=(normal_gamma_ll(10))\n",
    "print(a)"
   ]
  },
  {
   "cell_type": "code",
   "execution_count": 6,
   "id": "222d6b5b",
   "metadata": {},
   "outputs": [],
   "source": [
    "def mh(rounds):\n",
    "    \n",
    "    param_guesses = []\n",
    "    \n",
    "    # the prior distribution\n",
    "    prior_distribution = gamma(a=2.5, scale=5)\n",
    "    \n",
    "    # draw the first guess\n",
    "    old_prior = prior_distribution.rvs(1)[0]\n",
    "    param_guesses.append(old_prior)\n",
    "\n",
    "    # find the first old value:\n",
    "    map_old = normal_gamma_ll(old_prior)\n",
    "    \n",
    "    for iteration in np.arange(rounds):\n",
    "        \n",
    "        if(iteration%1000==0):\n",
    "            print(iteration)\n",
    "        \n",
    "        # 1. Generate a new guess for the parameter\n",
    "        \n",
    "        # 1a. propose a new value for the prior:\n",
    "        proposal_distribution = norm(loc = old_prior, scale = 1)\n",
    "        new_prior = proposal_distribution.rvs(1)[0]\n",
    "        \n",
    "        # 1b. find the new MAP score:\n",
    "        map_new = normal_gamma_ll(new_prior)\n",
    "        \n",
    "        # 2. Calculate the acceptance ratio:\n",
    "        \n",
    "        #acc_ratio = map_new/map_old\n",
    "        acc_ratio = np.exp(map_new-map_old)\n",
    "        alpha = min(1,acc_ratio)\n",
    "        \n",
    "        # 3. should we move?\n",
    "        \n",
    "        # 3a. always move if it's a better guess\n",
    "        if(alpha == 1):\n",
    "            map_old = map_new\n",
    "            old_prior = new_prior\n",
    "            param_guesses.append(new_prior)\n",
    "            continue\n",
    "        \n",
    "        # 3b. SOMETIMES move if it's a worse guess with probability equal to how bad the new guess is\n",
    "        rand = np.random.uniform(low=0.0, high=1.0, size=1)[0]\n",
    "            \n",
    "        if(rand>=alpha):\n",
    "            map_old = map_new\n",
    "            old_prior = new_prior\n",
    "            param_guesses.append(new_prior)\n",
    "            continue\n",
    "        else:\n",
    "            param_guesses.append(old_prior)\n",
    "            \n",
    "            \n",
    "    return param_guesses"
   ]
  },
  {
   "cell_type": "code",
   "execution_count": 7,
   "id": "3aa95b93",
   "metadata": {},
   "outputs": [
    {
     "name": "stdout",
     "output_type": "stream",
     "text": [
      "0\n",
      "1000\n",
      "2000\n",
      "3000\n",
      "4000\n",
      "5000\n",
      "6000\n",
      "7000\n",
      "8000\n",
      "9000\n"
     ]
    }
   ],
   "source": [
    "a = mh(10000)"
   ]
  },
  {
   "cell_type": "code",
   "execution_count": 8,
   "id": "d29e01cc",
   "metadata": {},
   "outputs": [
    {
     "data": {
      "text/plain": [
       "[<matplotlib.lines.Line2D at 0x7fe20b776970>]"
      ]
     },
     "execution_count": 8,
     "metadata": {},
     "output_type": "execute_result"
    },
    {
     "data": {
      "image/png": "[encoded data removed]",
      "text/plain": [
       "<Figure size 432x288 with 1 Axes>"
      ]
     },
     "metadata": {
      "needs_background": "light"
     },
     "output_type": "display_data"
    }
   ],
   "source": [
    "plt.plot(a)"
   ]
  },
  {
   "cell_type": "code",
   "execution_count": 9,
   "id": "3a5064ac",
   "metadata": {},
   "outputs": [],
   "source": [
    "# discard the first 1000 samples due to burn in\n",
    "b = np.array(a[1000:])"
   ]
  },
  {
   "cell_type": "code",
   "execution_count": 10,
   "id": "304874c8",
   "metadata": {},
   "outputs": [
    {
     "data": {
      "text/plain": [
       "[<matplotlib.lines.Line2D at 0x7fe20b83c790>]"
      ]
     },
     "execution_count": 10,
     "metadata": {},
     "output_type": "execute_result"
    },
    {
     "data": {
      "image/png": "[encoded data removed]",
      "text/plain": [
       "<Figure size 432x288 with 1 Axes>"
      ]
     },
     "metadata": {
      "needs_background": "light"
     },
     "output_type": "display_data"
    }
   ],
   "source": [
    "plt.plot(b)"
   ]
  },
  {
   "cell_type": "code",
   "execution_count": 13,
   "id": "b45f9f99",
   "metadata": {},
   "outputs": [
    {
     "data": {
      "image/png": "[encoded data removed]",
      "text/plain": [
       "<Figure size 432x288 with 1 Axes>"
      ]
     },
     "metadata": {
      "needs_background": "light"
     },
     "output_type": "display_data"
    }
   ],
   "source": [
    "num_bins = 50\n",
    "ppd_probs, bins, p = plt.hist(b, bins=num_bins, density=True)"
   ]
  },
  {
   "cell_type": "markdown",
   "id": "51f60e99",
   "metadata": {},
   "source": [
    "The above histogram is a set of samples from the posterior, $p(h|d)$. It shows that the markov chain we constructed has a stationary distribution where the most likely value is 10 (the true parameter value).\n",
    "\n",
    "Importantly this is a DISTRIBUTION for the value of the parameter. It reflects our uncertainty in it's value, rather than for example simply picking the most likely (maximum likelihood esimate).\n",
    "\n",
    "Remember in real life, we never get to peak behind the scene at the generating process so this distribution of likely values is much more useful."
   ]
  },
  {
   "cell_type": "markdown",
   "id": "a1e6a95a",
   "metadata": {},
   "source": [
    "### Making predictions with the posterior predictive distribution"
   ]
  },
  {
   "cell_type": "markdown",
   "id": "75d63e35",
   "metadata": {},
   "source": [
    "Having a distribution for the parameter value is great, but how do we actually make predictions with this data?\n",
    "\n",
    "We use the posterior predictive distribution!\n",
    "\n",
    "$$ p(y|x_{testpoint},d) = \\int p(y|x_{testpoint},\\theta) \\times p(\\theta|d) \\,d \\theta $$\n",
    "\n",
    "This equation says that instead of using only a single estimate for the parameter value (as we would in MLE or MAP) we instead use all of them, summing up each estimation for the gradient and weighting it by the probability of observing it given the data.\n",
    "\n",
    "This last quantity, the probability of the parameter given the data is what we've just spilled so much blood and treasure on!"
   ]
  },
  {
   "cell_type": "code",
   "execution_count": 23,
   "id": "8c32ff41",
   "metadata": {},
   "outputs": [
    {
     "data": {
      "text/plain": [
       "[<matplotlib.lines.Line2D at 0x7fe20b222b80>]"
      ]
     },
     "execution_count": 23,
     "metadata": {},
     "output_type": "execute_result"
    },
    {
     "data": {
      "image/png": "[encoded data removed]",
      "text/plain": [
       "<Figure size 432x288 with 1 Axes>"
      ]
     },
     "metadata": {
      "needs_background": "light"
     },
     "output_type": "display_data"
    }
   ],
   "source": [
    "def predict_single_test_point(x_test):\n",
    "    total_pdf = 0\n",
    "    y_pdf_range = np.linspace(-100,100,60)\n",
    "    for i in np.arange(num_bins):\n",
    "        theta = bins[i]\n",
    "        curr_pdf = norm.pdf(y_pdf_range,loc = theta*x_test,scale = 1)\n",
    "        curr_pdf = curr_pdf*ppd_probs[i]\n",
    "        total_pdf = total_pdf+curr_pdf\n",
    "        \n",
    "    return total_pdf\n",
    "\n",
    "res = predict_single_test_point(1)\n",
    "\n",
    "y_pdf_range = np.linspace(-100,100,60)\n",
    "plt.plot(y_pdf_range,res)"
   ]
  },
  {
   "cell_type": "code",
   "execution_count": 20,
   "id": "d0326a94",
   "metadata": {},
   "outputs": [
    {
     "data": {
      "text/plain": [
       "[<matplotlib.lines.Line2D at 0x7fe20b864940>]"
      ]
     },
     "execution_count": 20,
     "metadata": {},
     "output_type": "execute_result"
    },
    {
     "data": {
      "image/png": "[encoded data removed]",
      "text/plain": [
       "<Figure size 432x288 with 1 Axes>"
      ]
     },
     "metadata": {
      "needs_background": "light"
     },
     "output_type": "display_data"
    }
   ],
   "source": [
    "plt.plot(norm.pdf(y_pdf_range,loc = 9*10,scale = 1))"
   ]
  },
  {
   "cell_type": "code",
   "execution_count": null,
   "id": "5ba7277b",
   "metadata": {},
   "outputs": [],
   "source": [
    "def predict_grid_of_vals(x_test_space,num_evals_per_x_test):\n",
    "    \n",
    "    results_grid = np.zeros((num_evals_per_x_test,x_test_space.shape[0]))\n",
    "    #results_grid = np.zeros((,x_test_space.shape[0],num_evals_per_x_test))\n",
    "    \n",
    "    \n",
    "    for i in np.arange(x_test_space.shape[0]):\n",
    "        x_test = predict_single_test_point(x_test_space[i])\n",
    "        results_grid[:,i] = np.flip(x_test)\n",
    "        \n",
    "    return results_grid\n",
    "    \n",
    "x_test_space = np.linspace(-6,25,100)\n",
    "\n",
    "res = predict_grid_of_vals(x_test_space,60)\n",
    "\n",
    "#res = np.transpose(res)\n",
    "\n",
    "fig, ax = plt.subplots(figsize=(20, 20))\n",
    "ax.set_aspect('equal')\n",
    "plt.imshow(res, interpolation='nearest')\n",
    "plt.show()"
   ]
  },
  {
   "cell_type": "markdown",
   "id": "ebfa2690",
   "metadata": {},
   "source": [
    "## Gibbs sampling"
   ]
  },
  {
   "cell_type": "markdown",
   "id": "ddd3c9f4",
   "metadata": {},
   "source": [
    "### Data generation"
   ]
  },
  {
   "cell_type": "code",
   "execution_count": null,
   "id": "cffc508d",
   "metadata": {},
   "outputs": [],
   "source": [
    "def generate_clusters(num_points):\n",
    "    \n",
    "    x_points = np.zeros(num_points)\n",
    "    \n",
    "    mu_1 = 5\n",
    "    sigma_1 = 0.6\n",
    "    \n",
    "    mu_2 = 25\n",
    "    sigma_2 = 1.5\n",
    "    \n",
    "    \n",
    "    for i in np.arange(num_points):\n",
    "        rand = np.random.uniform(low=0.0, high=1.0, size=1)[0]\n",
    "    \n",
    "        if rand>=0.5:\n",
    "            sample =  np.random.normal(loc=mu_2, scale=sigma_2)\n",
    "        else:\n",
    "            sample =  np.random.normal(loc=mu_1, scale=sigma_1)\n",
    "            \n",
    "        x_points[i] = sample\n",
    "    \n",
    "    return x_points\n",
    "\n",
    "# our gods eye view of the world\n",
    "num_train_points = 2000\n",
    "\n",
    "x_gibbs_data = generate_clusters(num_train_points)\n",
    "\n",
    "\n",
    "plt.scatter(x_gibbs_data,np.zeros(num_train_points))\n",
    "#plt.ylim([0, 50])"
   ]
  },
  {
   "cell_type": "code",
   "execution_count": null,
   "id": "11c21ce5",
   "metadata": {},
   "outputs": [],
   "source": []
  }
 ],
 "metadata": {
  "kernelspec": {
   "display_name": "Python 3 (ipykernel)",
   "language": "python",
   "name": "python3"
  },
  "language_info": {
   "codemirror_mode": {
    "name": "ipython",
    "version": 3
   },
   "file_extension": ".py",
   "mimetype": "text/x-python",
   "name": "python",
   "nbconvert_exporter": "python",
   "pygments_lexer": "ipython3",
   "version": "3.9.6"
  }
 },
 "nbformat": 4,
 "nbformat_minor": 5
}
